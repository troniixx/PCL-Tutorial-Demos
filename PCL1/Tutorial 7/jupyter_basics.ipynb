{
 "cells": [
  {
   "cell_type": "markdown",
   "metadata": {},
   "source": [
    "# Welcome to the beautiful world of jupyter notebooks.\n",
    "\n",
    "1. To start make sure you have selected the python interpreter in the top right corner (it should say \"Select Kernel\")\n",
    "\n",
    "#### Created by Mert Erol"
   ]
  },
  {
   "cell_type": "markdown",
   "metadata": {},
   "source": [
    "# This is a markdown cell!\n",
    "## Here you can write normal text\n",
    "\n",
    "- or you can play around with markdown (its really fun)\n",
    "\n",
    "! Here is a cheat sheet: https://github.com/lifeparticle/Markdown-Cheatsheet/blob/main/README.md"
   ]
  },
  {
   "cell_type": "code",
   "execution_count": 1,
   "metadata": {},
   "outputs": [
    {
     "name": "stdout",
     "output_type": "stream",
     "text": [
      "This is a python cell\n",
      "You can run it either by pressing the play button next to it or by pressing Shift+Enter while typing in the cell\n"
     ]
    }
   ],
   "source": [
    "print(\"This is a python cell\")\n",
    "print(\"You can run it either by pressing the play button next to it or by pressing Shift+Enter while typing in the cell\")"
   ]
  },
  {
   "cell_type": "code",
   "execution_count": 2,
   "metadata": {},
   "outputs": [
    {
     "name": "stdout",
     "output_type": "stream",
     "text": [
      "You can also write normal python code\n",
      "15\n"
     ]
    }
   ],
   "source": [
    "print(\"You can also write normal python code\")\n",
    "\n",
    "a = 5\n",
    "b = 10\n",
    "\n",
    "print(a + b)"
   ]
  }
 ],
 "metadata": {
  "kernelspec": {
   "display_name": "Python 3",
   "language": "python",
   "name": "python3"
  },
  "language_info": {
   "codemirror_mode": {
    "name": "ipython",
    "version": 3
   },
   "file_extension": ".py",
   "mimetype": "text/x-python",
   "name": "python",
   "nbconvert_exporter": "python",
   "pygments_lexer": "ipython3",
   "version": "3.12.3"
  }
 },
 "nbformat": 4,
 "nbformat_minor": 2
}
